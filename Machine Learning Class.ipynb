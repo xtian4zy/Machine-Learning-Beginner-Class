{
 "cells": [
  {
   "cell_type": "code",
   "execution_count": 1,
   "metadata": {},
   "outputs": [],
   "source": [
    "%matplotlib inline\n",
    "from IPython.display import Image\n"
   ]
  },
  {
   "cell_type": "markdown",
   "metadata": {},
   "source": [
    "# Beginner Machine Learning Class - Introduction\n",
    "\n",
    "Welcome to the Data Science Arena Beginner Machine Learning Class. It is our great delight to have you learn with us today. Sit tight and let's get started. \n",
    "\n",
    "This is a concise overview of machine learning for beginners. It emphasizes the key concepts and details that are essential as you begin your machine learning journey. "
   ]
  },
  {
   "cell_type": "markdown",
   "metadata": {},
   "source": [
    "## Learning Goals\n",
    "\n",
    "In this class course, you will:\n",
    "\n",
    "* Learn what machine learning is all about and the problems it can solve.\n",
    "* Learn the difference between machine learning systems and traditional systems.\n",
    "* Learn the major types of machine learning systems.\n",
    "* Learn about the different machine learning algorithms available for use.\n",
    "* Learn how to organize a successful machine learning project.\n",
    "* Learn how to execute machine learning projects.\n"
   ]
  },
  {
   "cell_type": "markdown",
   "metadata": {},
   "source": [
    "## Prerequisites\n",
    "While there are no prerequisites for this class course, it is highly required that you have a clear and strong goal to learn about machine learning."
   ]
  },
  {
   "cell_type": "markdown",
   "metadata": {},
   "source": [
    "## What is Machine Learning?\n",
    "\n",
    "Machine learning (ML) is the subset of artificial intelligence (AI) that involves the use and development of computer systems that can learn and adapt without following explicit instructions, by using probability, algorithms and statistical models to analyze and draw inferences from data patterns.\n",
    "\n",
    "Simply put, machine learning is solely concerned with learning from examples (i.e we create and prepare a dataset consisting of examples, and a machine learning system “learns” from this dataset. What we do in essence is that we provide the system with input and the desired output, and then the system tries to interpret it automatically, without human assistance."
   ]
  },
  {
   "cell_type": "markdown",
   "metadata": {},
   "source": [
    "### Simple Machine Learning Example:\n",
    "\n",
    "Let's say we create a dataset containing the height and weight descriptions of individuals and their shoe sizes and then provide a machine learning model with this dataset (as input) and “teach” it by exposing it to different individual heights, weights and also their shoe size. This process is called training (see figure 1 below).\n",
    "\n",
    "\n",
    "Once we are done with training, we can use our model to predict the shoe size of unknown individuals (see figure 2).\n",
    "\n",
    "**Note:** The most important requirement for machine learning is an available dataset that contains the desired output (shoe size) for each input item (the individual)."
   ]
  },
  {
   "cell_type": "markdown",
   "metadata": {},
   "source": [
    "## Daily Applications of Machine Learning\n",
    "\n",
    "Machine Learning applications are now designed and deployed in virtually every aspect of human life. Examples of daily life applications (using machine learning to solve problems) include:\n",
    "\n",
    "1. Traffic alerts.\n",
    "2. Products recommendations (e.g Netflix, Amazon, eBay, e.t.c).\n",
    "3. Self-driving cars.\n",
    "4. Google search and translate.\n",
    "5. Image recognition (e.g x-ray reports).\n",
    "6. Speech recognition.\n",
    "7. Medical diagnosis (Oncology and pathology use machine learning to recognize cancerous tissue).\n",
    "8. Fraud detection.\n",
    "9. Sales Prediction.\n",
    "10. Weather forecast and prediction.\n",
    "11. Spam Prevention.\n",
    "12. Construction Prediction."
   ]
  },
  {
   "cell_type": "markdown",
   "metadata": {},
   "source": [
    "## What is the difference between machine learning systems and traditional systems?\n",
    "\n",
    "With **traditional systems**, developers and programmers perform the entire hard work of observing the data and then trying to identify patterns manually. Once they can lay claim to any pattern, they create some logic set (rules that can convert the input data to the desired output) and step by step program these rules into software packages that can perform the desired task."
   ]
  }
 ],
 "metadata": {
  "kernelspec": {
   "display_name": "Python 3.9.7 ('base')",
   "language": "python",
   "name": "python3"
  },
  "language_info": {
   "codemirror_mode": {
    "name": "ipython",
    "version": 3
   },
   "file_extension": ".py",
   "mimetype": "text/x-python",
   "name": "python",
   "nbconvert_exporter": "python",
   "pygments_lexer": "ipython3",
   "version": "3.9.7"
  },
  "orig_nbformat": 4,
  "vscode": {
   "interpreter": {
    "hash": "c536b6d285c7bc8b344c6b60e77e72d5632380ee410af48285984064952925ae"
   }
  }
 },
 "nbformat": 4,
 "nbformat_minor": 2
}

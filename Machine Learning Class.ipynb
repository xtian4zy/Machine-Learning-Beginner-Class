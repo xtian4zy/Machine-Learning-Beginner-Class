{
 "cells": [
  {
   "cell_type": "code",
   "execution_count": 1,
   "metadata": {},
   "outputs": [],
   "source": [
    "%matplotlib inline\n",
    "from IPython.display import Image\n"
   ]
  },
  {
   "cell_type": "markdown",
   "metadata": {},
   "source": [
    "# Beginner Machine Learning Class - Introduction\n",
    "\n",
    "Welcome to the Data Science Arena Beginner Machine Learning Class. It is our great delight to have you learn with us today. Sit tight and let's get started. \n",
    "\n",
    "This is a concise overview of machine learning for beginners. It emphasizes the key concepts and details that are essential as you begin your machine learning journey. "
   ]
  },
  {
   "cell_type": "markdown",
   "metadata": {},
   "source": [
    "## Learning Goals\n",
    "\n",
    "In this class course, you will:\n",
    "\n",
    "* Learn what machine learning is all about and the problems it can solve.\n",
    "* Learn the difference between machine learning systems and traditional systems.\n",
    "* Learn the major types of machine learning systems.\n",
    "* Learn about the different machine learning algorithms available for use.\n",
    "* Learn how to organize a successful machine learning project.\n",
    "* Learn how to execute machine learning projects.\n"
   ]
  },
  {
   "cell_type": "markdown",
   "metadata": {},
   "source": [
    "## Prerequisites\n",
    "While there are no prerequisites for this class course, it is highly required that you have a clear and strong goal to learn about machine learning."
   ]
  },
  {
   "cell_type": "markdown",
   "metadata": {},
   "source": [
    "## What is Machine Learning?\n",
    "\n",
    "Machine learning (ML) is the subset of artificial intelligence (AI) that involves the use and development of computer systems that can learn and adapt without following explicit instructions, by using probability, algorithms and statistical models to analyze and draw inferences from data patterns.\n",
    "\n",
    "Simply put, machine learning is solely concerned with learning from examples (i.e we create and prepare a dataset consisting of examples, and a machine learning system “learns” from this dataset. What we do in essence is that we provide the system with input and the desired output, and then the system tries to interpret it automatically, without human assistance."
   ]
  },
  {
   "cell_type": "markdown",
   "metadata": {},
   "source": [
    "### Machine Learning Example:\n",
    "\n",
    "Let's say we create a dataset containing the height and weight descriptions of individuals and their shoe sizes and then provide a machine learning model with this dataset (as input) and “teach” it by exposing it to different individual heights, weights and also their shoe size. This process is called training or sometimes fitting (figure 1.1)."
   ]
  }
 ],
 "metadata": {
  "kernelspec": {
   "display_name": "Python 3.9.7 ('base')",
   "language": "python",
   "name": "python3"
  },
  "language_info": {
   "codemirror_mode": {
    "name": "ipython",
    "version": 3
   },
   "file_extension": ".py",
   "mimetype": "text/x-python",
   "name": "python",
   "nbconvert_exporter": "python",
   "pygments_lexer": "ipython3",
   "version": "3.9.7"
  },
  "orig_nbformat": 4,
  "vscode": {
   "interpreter": {
    "hash": "c536b6d285c7bc8b344c6b60e77e72d5632380ee410af48285984064952925ae"
   }
  }
 },
 "nbformat": 4,
 "nbformat_minor": 2
}

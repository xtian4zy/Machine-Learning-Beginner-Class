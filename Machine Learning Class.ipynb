{
 "cells": [
  {
   "cell_type": "markdown",
   "metadata": {},
   "source": [
    "# Beginner Machine Learning Class - Introduction\n",
    "\n",
    "Welcome to the Data Science Arena Beginner Machine Learning Class. It is our great delight to have you learn with us today. Sit tight and let's get started. \n",
    "\n",
    "In this class, you'll learn every beginner concept about machine learning."
   ]
  },
  {
   "cell_type": "markdown",
   "metadata": {},
   "source": [
    "## Learning Goals\n",
    "\n",
    "* Understand what machine learning is all about and the problems it can solve.\n",
    "* Organizing a successful machine learning project.\n",
    "* Understand how to execute machine learning projects.\n"
   ]
  },
  {
   "cell_type": "markdown",
   "metadata": {},
   "source": [
    "## What is Machine Learning?\n",
    "\n",
    "Machine learning (ML) is the subset of artificial intelligence (AI) that involves the use and development of computer systems that can learn and adapt without following explicit instructions, by using probability, algorithms and statistical models to analyze and draw inferences from data patterns.\n",
    "\n",
    "Simply put, machine learning is solely concerned with learning from examples (i.e we create and prepare a dataset consisting of examples, and a machine learning system “learns” from this dataset. What we do in essence is that we provide the system with input and the desired output, and then the system tries to interpret it automatically, without human assistance."
   ]
  }
 ],
 "metadata": {
  "language_info": {
   "name": "python"
  },
  "orig_nbformat": 4
 },
 "nbformat": 4,
 "nbformat_minor": 2
}
